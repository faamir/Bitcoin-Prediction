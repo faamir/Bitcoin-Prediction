{
 "cells": [
  {
   "cell_type": "markdown",
   "metadata": {},
   "source": [
    "# Bitcoin prediction"
   ]
  },
  {
   "cell_type": "code",
   "execution_count": 1,
   "metadata": {},
   "outputs": [],
   "source": [
    "import pandas as pd\n",
    "import numpy as np\n",
    "import matplotlib.pyplot as plt\n",
    "from pandas.io.json import json_normalize\n",
    "import nltk\n",
    "from collections import Counter\n",
    "import itertools\n",
    "from sklearn import preprocessing\n",
    "from sklearn.preprocessing import MinMaxScaler, StandardScaler\n",
    "from sklearn.model_selection import train_test_split\n",
    "import collections\n",
    "from sklearn import metrics\n",
    "from tensorflow.keras import models\n",
    "from tensorflow.keras.layers import LSTM, Dense, Dropout"
   ]
  },
  {
   "cell_type": "code",
   "execution_count": 2,
   "metadata": {},
   "outputs": [
    {
     "data": {
      "text/html": [
       "<div>\n",
       "<style scoped>\n",
       "    .dataframe tbody tr th:only-of-type {\n",
       "        vertical-align: middle;\n",
       "    }\n",
       "\n",
       "    .dataframe tbody tr th {\n",
       "        vertical-align: top;\n",
       "    }\n",
       "\n",
       "    .dataframe thead th {\n",
       "        text-align: right;\n",
       "    }\n",
       "</style>\n",
       "<table border=\"1\" class=\"dataframe\">\n",
       "  <thead>\n",
       "    <tr style=\"text-align: right;\">\n",
       "      <th></th>\n",
       "      <th>Timestamp</th>\n",
       "      <th>Open</th>\n",
       "      <th>High</th>\n",
       "      <th>Low</th>\n",
       "      <th>Close</th>\n",
       "      <th>Volume_(BTC)</th>\n",
       "      <th>Volume_(Currency)</th>\n",
       "      <th>Weighted_Price</th>\n",
       "    </tr>\n",
       "  </thead>\n",
       "  <tbody>\n",
       "    <tr>\n",
       "      <th>0</th>\n",
       "      <td>1325317920</td>\n",
       "      <td>4.39</td>\n",
       "      <td>4.39</td>\n",
       "      <td>4.39</td>\n",
       "      <td>4.39</td>\n",
       "      <td>0.455581</td>\n",
       "      <td>2.0</td>\n",
       "      <td>4.39</td>\n",
       "    </tr>\n",
       "    <tr>\n",
       "      <th>1</th>\n",
       "      <td>1325317980</td>\n",
       "      <td>NaN</td>\n",
       "      <td>NaN</td>\n",
       "      <td>NaN</td>\n",
       "      <td>NaN</td>\n",
       "      <td>NaN</td>\n",
       "      <td>NaN</td>\n",
       "      <td>NaN</td>\n",
       "    </tr>\n",
       "    <tr>\n",
       "      <th>2</th>\n",
       "      <td>1325318040</td>\n",
       "      <td>NaN</td>\n",
       "      <td>NaN</td>\n",
       "      <td>NaN</td>\n",
       "      <td>NaN</td>\n",
       "      <td>NaN</td>\n",
       "      <td>NaN</td>\n",
       "      <td>NaN</td>\n",
       "    </tr>\n",
       "    <tr>\n",
       "      <th>3</th>\n",
       "      <td>1325318100</td>\n",
       "      <td>NaN</td>\n",
       "      <td>NaN</td>\n",
       "      <td>NaN</td>\n",
       "      <td>NaN</td>\n",
       "      <td>NaN</td>\n",
       "      <td>NaN</td>\n",
       "      <td>NaN</td>\n",
       "    </tr>\n",
       "    <tr>\n",
       "      <th>4</th>\n",
       "      <td>1325318160</td>\n",
       "      <td>NaN</td>\n",
       "      <td>NaN</td>\n",
       "      <td>NaN</td>\n",
       "      <td>NaN</td>\n",
       "      <td>NaN</td>\n",
       "      <td>NaN</td>\n",
       "      <td>NaN</td>\n",
       "    </tr>\n",
       "  </tbody>\n",
       "</table>\n",
       "</div>"
      ],
      "text/plain": [
       "    Timestamp  Open  High   Low  Close  Volume_(BTC)  Volume_(Currency)  \\\n",
       "0  1325317920  4.39  4.39  4.39   4.39      0.455581                2.0   \n",
       "1  1325317980   NaN   NaN   NaN    NaN           NaN                NaN   \n",
       "2  1325318040   NaN   NaN   NaN    NaN           NaN                NaN   \n",
       "3  1325318100   NaN   NaN   NaN    NaN           NaN                NaN   \n",
       "4  1325318160   NaN   NaN   NaN    NaN           NaN                NaN   \n",
       "\n",
       "   Weighted_Price  \n",
       "0            4.39  \n",
       "1             NaN  \n",
       "2             NaN  \n",
       "3             NaN  \n",
       "4             NaN  "
      ]
     },
     "execution_count": 2,
     "metadata": {},
     "output_type": "execute_result"
    }
   ],
   "source": [
    "#Read data set with pandas\n",
    "df = pd.read_csv(\"./bitstampUSD_1-min_data_2012-01-01_to_2020-12-31.csv\")\n",
    "df.head()"
   ]
  },
  {
   "cell_type": "code",
   "execution_count": 3,
   "metadata": {},
   "outputs": [
    {
     "name": "stdout",
     "output_type": "stream",
     "text": [
      "column:  Timestamp\n",
      "column:  Open\n",
      "column:  High\n",
      "column:  Low\n",
      "column:  Close\n",
      "column:  Volume_(BTC)\n",
      "column:  Volume_(Currency)\n",
      "column:  Weighted_Price\n"
     ]
    }
   ],
   "source": [
    "#Columns name in data set\n",
    "for col in df.columns:\n",
    "    print(\"column: \",col)"
   ]
  },
  {
   "cell_type": "code",
   "execution_count": 4,
   "metadata": {},
   "outputs": [
    {
     "data": {
      "text/html": [
       "<div>\n",
       "<style scoped>\n",
       "    .dataframe tbody tr th:only-of-type {\n",
       "        vertical-align: middle;\n",
       "    }\n",
       "\n",
       "    .dataframe tbody tr th {\n",
       "        vertical-align: top;\n",
       "    }\n",
       "\n",
       "    .dataframe thead th {\n",
       "        text-align: right;\n",
       "    }\n",
       "</style>\n",
       "<table border=\"1\" class=\"dataframe\">\n",
       "  <thead>\n",
       "    <tr style=\"text-align: right;\">\n",
       "      <th></th>\n",
       "      <th>Timestamp</th>\n",
       "      <th>Open</th>\n",
       "      <th>High</th>\n",
       "      <th>Low</th>\n",
       "      <th>Close</th>\n",
       "      <th>Volume_(BTC)</th>\n",
       "      <th>Volume_(Currency)</th>\n",
       "      <th>Weighted_Price</th>\n",
       "    </tr>\n",
       "  </thead>\n",
       "  <tbody>\n",
       "    <tr>\n",
       "      <th>0</th>\n",
       "      <td>2011-12-31 07:52:00</td>\n",
       "      <td>4.39</td>\n",
       "      <td>4.39</td>\n",
       "      <td>4.39</td>\n",
       "      <td>4.39</td>\n",
       "      <td>0.455581</td>\n",
       "      <td>2.0</td>\n",
       "      <td>4.39</td>\n",
       "    </tr>\n",
       "    <tr>\n",
       "      <th>1</th>\n",
       "      <td>2011-12-31 07:53:00</td>\n",
       "      <td>NaN</td>\n",
       "      <td>NaN</td>\n",
       "      <td>NaN</td>\n",
       "      <td>NaN</td>\n",
       "      <td>NaN</td>\n",
       "      <td>NaN</td>\n",
       "      <td>NaN</td>\n",
       "    </tr>\n",
       "    <tr>\n",
       "      <th>2</th>\n",
       "      <td>2011-12-31 07:54:00</td>\n",
       "      <td>NaN</td>\n",
       "      <td>NaN</td>\n",
       "      <td>NaN</td>\n",
       "      <td>NaN</td>\n",
       "      <td>NaN</td>\n",
       "      <td>NaN</td>\n",
       "      <td>NaN</td>\n",
       "    </tr>\n",
       "    <tr>\n",
       "      <th>3</th>\n",
       "      <td>2011-12-31 07:55:00</td>\n",
       "      <td>NaN</td>\n",
       "      <td>NaN</td>\n",
       "      <td>NaN</td>\n",
       "      <td>NaN</td>\n",
       "      <td>NaN</td>\n",
       "      <td>NaN</td>\n",
       "      <td>NaN</td>\n",
       "    </tr>\n",
       "    <tr>\n",
       "      <th>4</th>\n",
       "      <td>2011-12-31 07:56:00</td>\n",
       "      <td>NaN</td>\n",
       "      <td>NaN</td>\n",
       "      <td>NaN</td>\n",
       "      <td>NaN</td>\n",
       "      <td>NaN</td>\n",
       "      <td>NaN</td>\n",
       "      <td>NaN</td>\n",
       "    </tr>\n",
       "  </tbody>\n",
       "</table>\n",
       "</div>"
      ],
      "text/plain": [
       "            Timestamp  Open  High   Low  Close  Volume_(BTC)  \\\n",
       "0 2011-12-31 07:52:00  4.39  4.39  4.39   4.39      0.455581   \n",
       "1 2011-12-31 07:53:00   NaN   NaN   NaN    NaN           NaN   \n",
       "2 2011-12-31 07:54:00   NaN   NaN   NaN    NaN           NaN   \n",
       "3 2011-12-31 07:55:00   NaN   NaN   NaN    NaN           NaN   \n",
       "4 2011-12-31 07:56:00   NaN   NaN   NaN    NaN           NaN   \n",
       "\n",
       "   Volume_(Currency)  Weighted_Price  \n",
       "0                2.0            4.39  \n",
       "1                NaN             NaN  \n",
       "2                NaN             NaN  \n",
       "3                NaN             NaN  \n",
       "4                NaN             NaN  "
      ]
     },
     "execution_count": 4,
     "metadata": {},
     "output_type": "execute_result"
    }
   ],
   "source": [
    "#Convert Timestamp to datetime.\n",
    "df['Timestamp'] = pd.to_datetime(df.Timestamp, unit='s')\n",
    "df.head()"
   ]
  },
  {
   "cell_type": "code",
   "execution_count": 5,
   "metadata": {},
   "outputs": [
    {
     "data": {
      "text/html": [
       "<div>\n",
       "<style scoped>\n",
       "    .dataframe tbody tr th:only-of-type {\n",
       "        vertical-align: middle;\n",
       "    }\n",
       "\n",
       "    .dataframe tbody tr th {\n",
       "        vertical-align: top;\n",
       "    }\n",
       "\n",
       "    .dataframe thead th {\n",
       "        text-align: right;\n",
       "    }\n",
       "</style>\n",
       "<table border=\"1\" class=\"dataframe\">\n",
       "  <thead>\n",
       "    <tr style=\"text-align: right;\">\n",
       "      <th></th>\n",
       "      <th>Open</th>\n",
       "      <th>High</th>\n",
       "      <th>Low</th>\n",
       "      <th>Close</th>\n",
       "      <th>Volume_(BTC)</th>\n",
       "      <th>Volume_(Currency)</th>\n",
       "      <th>Weighted_Price</th>\n",
       "    </tr>\n",
       "  </thead>\n",
       "  <tbody>\n",
       "    <tr>\n",
       "      <th>count</th>\n",
       "      <td>3.484305e+06</td>\n",
       "      <td>3.484305e+06</td>\n",
       "      <td>3.484305e+06</td>\n",
       "      <td>3.484305e+06</td>\n",
       "      <td>3.484305e+06</td>\n",
       "      <td>3.484305e+06</td>\n",
       "      <td>3.484305e+06</td>\n",
       "    </tr>\n",
       "    <tr>\n",
       "      <th>mean</th>\n",
       "      <td>4.570658e+03</td>\n",
       "      <td>4.573721e+03</td>\n",
       "      <td>4.567413e+03</td>\n",
       "      <td>4.570624e+03</td>\n",
       "      <td>9.422676e+00</td>\n",
       "      <td>3.315691e+04</td>\n",
       "      <td>4.570625e+03</td>\n",
       "    </tr>\n",
       "    <tr>\n",
       "      <th>std</th>\n",
       "      <td>4.775105e+03</td>\n",
       "      <td>4.778620e+03</td>\n",
       "      <td>4.771352e+03</td>\n",
       "      <td>4.775094e+03</td>\n",
       "      <td>3.101255e+01</td>\n",
       "      <td>1.129107e+05</td>\n",
       "      <td>4.775090e+03</td>\n",
       "    </tr>\n",
       "    <tr>\n",
       "      <th>min</th>\n",
       "      <td>3.800000e+00</td>\n",
       "      <td>3.800000e+00</td>\n",
       "      <td>1.500000e+00</td>\n",
       "      <td>1.500000e+00</td>\n",
       "      <td>0.000000e+00</td>\n",
       "      <td>0.000000e+00</td>\n",
       "      <td>3.800000e+00</td>\n",
       "    </tr>\n",
       "    <tr>\n",
       "      <th>25%</th>\n",
       "      <td>4.321900e+02</td>\n",
       "      <td>4.324300e+02</td>\n",
       "      <td>4.320000e+02</td>\n",
       "      <td>4.322000e+02</td>\n",
       "      <td>3.917811e-01</td>\n",
       "      <td>4.147936e+02</td>\n",
       "      <td>4.321753e+02</td>\n",
       "    </tr>\n",
       "    <tr>\n",
       "      <th>50%</th>\n",
       "      <td>3.085010e+03</td>\n",
       "      <td>3.093250e+03</td>\n",
       "      <td>3.078010e+03</td>\n",
       "      <td>3.084410e+03</td>\n",
       "      <td>1.936719e+00</td>\n",
       "      <td>3.305199e+03</td>\n",
       "      <td>3.085478e+03</td>\n",
       "    </tr>\n",
       "    <tr>\n",
       "      <th>75%</th>\n",
       "      <td>8.158010e+03</td>\n",
       "      <td>8.162850e+03</td>\n",
       "      <td>8.152790e+03</td>\n",
       "      <td>8.157310e+03</td>\n",
       "      <td>7.299825e+00</td>\n",
       "      <td>2.158297e+04</td>\n",
       "      <td>8.157964e+03</td>\n",
       "    </tr>\n",
       "    <tr>\n",
       "      <th>max</th>\n",
       "      <td>2.899738e+04</td>\n",
       "      <td>2.901032e+04</td>\n",
       "      <td>2.896366e+04</td>\n",
       "      <td>2.899738e+04</td>\n",
       "      <td>5.853852e+03</td>\n",
       "      <td>1.044599e+07</td>\n",
       "      <td>2.898589e+04</td>\n",
       "    </tr>\n",
       "  </tbody>\n",
       "</table>\n",
       "</div>"
      ],
      "text/plain": [
       "               Open          High           Low         Close  Volume_(BTC)  \\\n",
       "count  3.484305e+06  3.484305e+06  3.484305e+06  3.484305e+06  3.484305e+06   \n",
       "mean   4.570658e+03  4.573721e+03  4.567413e+03  4.570624e+03  9.422676e+00   \n",
       "std    4.775105e+03  4.778620e+03  4.771352e+03  4.775094e+03  3.101255e+01   \n",
       "min    3.800000e+00  3.800000e+00  1.500000e+00  1.500000e+00  0.000000e+00   \n",
       "25%    4.321900e+02  4.324300e+02  4.320000e+02  4.322000e+02  3.917811e-01   \n",
       "50%    3.085010e+03  3.093250e+03  3.078010e+03  3.084410e+03  1.936719e+00   \n",
       "75%    8.158010e+03  8.162850e+03  8.152790e+03  8.157310e+03  7.299825e+00   \n",
       "max    2.899738e+04  2.901032e+04  2.896366e+04  2.899738e+04  5.853852e+03   \n",
       "\n",
       "       Volume_(Currency)  Weighted_Price  \n",
       "count       3.484305e+06    3.484305e+06  \n",
       "mean        3.315691e+04    4.570625e+03  \n",
       "std         1.129107e+05    4.775090e+03  \n",
       "min         0.000000e+00    3.800000e+00  \n",
       "25%         4.147936e+02    4.321753e+02  \n",
       "50%         3.305199e+03    3.085478e+03  \n",
       "75%         2.158297e+04    8.157964e+03  \n",
       "max         1.044599e+07    2.898589e+04  "
      ]
     },
     "execution_count": 5,
     "metadata": {},
     "output_type": "execute_result"
    }
   ],
   "source": [
    "df.describe()"
   ]
  },
  {
   "cell_type": "code",
   "execution_count": 6,
   "metadata": {},
   "outputs": [],
   "source": [
    "# Resample the Timestamp for each hour\n",
    "df_resample = df.resample('H', on='Timestamp')[['Weighted_Price']].mean()"
   ]
  },
  {
   "cell_type": "code",
   "execution_count": 7,
   "metadata": {},
   "outputs": [
    {
     "data": {
      "text/plain": [
       "Text(0.5, 1.0, 'data')"
      ]
     },
     "execution_count": 7,
     "metadata": {},
     "output_type": "execute_result"
    },
    {
     "data": {
      "image/png": "[encoded data removed]",
      "text/plain": [
       "<Figure size 432x288 with 1 Axes>"
      ]
     },
     "metadata": {
      "needs_background": "light"
     },
     "output_type": "display_data"
    }
   ],
   "source": [
    "#Plot price with timestamp\n",
    "axs = df_resample.plot()\n",
    "axs.set_xlabel(\"Time\") \n",
    "axs.set_ylabel(\"Price $\") \n",
    "axs.set_title('data')"
   ]
  },
  {
   "cell_type": "code",
   "execution_count": 8,
   "metadata": {},
   "outputs": [
    {
     "data": {
      "text/plain": [
       "Weighted_Price    0.044762\n",
       "dtype: float64"
      ]
     },
     "execution_count": 8,
     "metadata": {},
     "output_type": "execute_result"
    }
   ],
   "source": [
    "#How many of each column is Nan\n",
    "df_resample.isnull().mean()"
   ]
  },
  {
   "cell_type": "code",
   "execution_count": 9,
   "metadata": {},
   "outputs": [
    {
     "data": {
      "text/plain": [
       "Weighted_Price    0.0\n",
       "dtype: float64"
      ]
     },
     "execution_count": 9,
     "metadata": {},
     "output_type": "execute_result"
    }
   ],
   "source": [
    "#Fill NaN in df\n",
    "df_resample = df_resample.fillna(method = \"backfill\")\n",
    "df_resample.isnull().mean()"
   ]
  },
  {
   "cell_type": "code",
   "execution_count": 10,
   "metadata": {},
   "outputs": [],
   "source": [
    "#Normalized data\n",
    "scaler = MinMaxScaler()\n",
    "normalized_weights = scaler.fit_transform(df_resample)"
   ]
  },
  {
   "cell_type": "code",
   "execution_count": 11,
   "metadata": {},
   "outputs": [
    {
     "data": {
      "text/html": [
       "<div>\n",
       "<style scoped>\n",
       "    .dataframe tbody tr th:only-of-type {\n",
       "        vertical-align: middle;\n",
       "    }\n",
       "\n",
       "    .dataframe tbody tr th {\n",
       "        vertical-align: top;\n",
       "    }\n",
       "\n",
       "    .dataframe thead th {\n",
       "        text-align: right;\n",
       "    }\n",
       "</style>\n",
       "<table border=\"1\" class=\"dataframe\">\n",
       "  <thead>\n",
       "    <tr style=\"text-align: right;\">\n",
       "      <th></th>\n",
       "      <th>Weighted_Price</th>\n",
       "    </tr>\n",
       "    <tr>\n",
       "      <th>Timestamp</th>\n",
       "      <th></th>\n",
       "    </tr>\n",
       "  </thead>\n",
       "  <tbody>\n",
       "    <tr>\n",
       "      <th>2011-12-31 07:00:00</th>\n",
       "      <td>0.000009</td>\n",
       "    </tr>\n",
       "    <tr>\n",
       "      <th>2011-12-31 08:00:00</th>\n",
       "      <td>0.000009</td>\n",
       "    </tr>\n",
       "    <tr>\n",
       "      <th>2011-12-31 09:00:00</th>\n",
       "      <td>0.000009</td>\n",
       "    </tr>\n",
       "    <tr>\n",
       "      <th>2011-12-31 10:00:00</th>\n",
       "      <td>0.000009</td>\n",
       "    </tr>\n",
       "    <tr>\n",
       "      <th>2011-12-31 11:00:00</th>\n",
       "      <td>0.000009</td>\n",
       "    </tr>\n",
       "  </tbody>\n",
       "</table>\n",
       "</div>"
      ],
      "text/plain": [
       "                     Weighted_Price\n",
       "Timestamp                          \n",
       "2011-12-31 07:00:00        0.000009\n",
       "2011-12-31 08:00:00        0.000009\n",
       "2011-12-31 09:00:00        0.000009\n",
       "2011-12-31 10:00:00        0.000009\n",
       "2011-12-31 11:00:00        0.000009"
      ]
     },
     "execution_count": 11,
     "metadata": {},
     "output_type": "execute_result"
    }
   ],
   "source": [
    "#Replace normalized weights in df\n",
    "df_resample['Weighted_Price'] = normalized_weights\n",
    "df_resample.head()"
   ]
  },
  {
   "cell_type": "code",
   "execution_count": 12,
   "metadata": {},
   "outputs": [
    {
     "data": {
      "text/plain": [
       "Text(0.5, 1.0, 'normalized data')"
      ]
     },
     "execution_count": 12,
     "metadata": {},
     "output_type": "execute_result"
    },
    {
     "data": {
      "image/png": "[encoded data removed]",
      "text/plain": [
       "<Figure size 432x288 with 1 Axes>"
      ]
     },
     "metadata": {
      "needs_background": "light"
     },
     "output_type": "display_data"
    }
   ],
   "source": [
    "#Plot with normalized prices\n",
    "axs = df_resample.plot()\n",
    "axs.set_xlabel(\"Time\") \n",
    "axs.set_ylabel(\"Price $\")\n",
    "axs.set_title('normalized data')"
   ]
  },
  {
   "cell_type": "code",
   "execution_count": 13,
   "metadata": {},
   "outputs": [],
   "source": [
    "df_splitted = df_resample['2017-01-01':]"
   ]
  },
  {
   "cell_type": "code",
   "execution_count": 14,
   "metadata": {},
   "outputs": [
    {
     "data": {
      "text/plain": [
       "Text(0.5, 1.0, 'splitted data')"
      ]
     },
     "execution_count": 14,
     "metadata": {},
     "output_type": "execute_result"
    },
    {
     "data": {
      "image/png": "[encoded data removed]",
      "text/plain": [
       "<Figure size 432x288 with 1 Axes>"
      ]
     },
     "metadata": {
      "needs_background": "light"
     },
     "output_type": "display_data"
    }
   ],
   "source": [
    "#Plot with splitted normalized prices\n",
    "axs = df_splitted.plot()\n",
    "axs.set_xlabel(\"Time\") \n",
    "axs.set_ylabel(\"Price $\")\n",
    "axs.set_title('splitted data')"
   ]
  },
  {
   "cell_type": "code",
   "execution_count": 15,
   "metadata": {},
   "outputs": [
    {
     "name": "stdout",
     "output_type": "stream",
     "text": [
      "train shape (28032, 1)\n",
      "test shape (7009, 1)\n"
     ]
    }
   ],
   "source": [
    "#Split into train and tes\n",
    "start = int(len(df_splitted) * 0.8)\n",
    "train_data = df_splitted.iloc[:start]\n",
    "test_data = df_splitted.iloc[start:]\n",
    "print(\"train shape\", train_data.shape)\n",
    "print(\"test shape\", test_data.shape)"
   ]
  },
  {
   "cell_type": "code",
   "execution_count": 16,
   "metadata": {},
   "outputs": [
    {
     "data": {
      "text/plain": [
       "Text(0.5, 1.0, 'train data')"
      ]
     },
     "execution_count": 16,
     "metadata": {},
     "output_type": "execute_result"
    },
    {
     "data": {
      "image/png": "[encoded data removed]",
      "text/plain": [
       "<Figure size 432x288 with 1 Axes>"
      ]
     },
     "metadata": {
      "needs_background": "light"
     },
     "output_type": "display_data"
    }
   ],
   "source": [
    "plt.plot(train_data)\n",
    "plt.ylabel(\"price $\")\n",
    "plt.title('train data')"
   ]
  },
  {
   "cell_type": "code",
   "execution_count": 17,
   "metadata": {},
   "outputs": [],
   "source": [
    "#teacher forcing shift toy data\n",
    "def shifter(data,shift=12):\n",
    "    x=[]\n",
    "    y=[]\n",
    "    for i in range(len(data)-shift):\n",
    "        x.append(data[i:(i+shift)])\n",
    "        y.append(data[i+shift])\n",
    "    return np.array(x),np.array(y)"
   ]
  },
  {
   "cell_type": "code",
   "execution_count": 18,
   "metadata": {},
   "outputs": [
    {
     "name": "stdout",
     "output_type": "stream",
     "text": [
      "[1 2 3] 4\n",
      "[2 3 4] 5\n",
      "[3 4 5] 6\n",
      "[4 5 6] 7\n",
      "[5 6 7] 8\n",
      "[6 7 8] 9\n",
      "[7 8 9] 10\n"
     ]
    }
   ],
   "source": [
    "#Example\n",
    "x, y = shifter(data=[1,2,3,4,5,6,7,8,9,10], shift=3)\n",
    "for i in range(len(x)):\n",
    "    print(x[i], y[i])"
   ]
  },
  {
   "cell_type": "code",
   "execution_count": 19,
   "metadata": {},
   "outputs": [],
   "source": [
    "# Create input and output for df data\n",
    "def shift_df(data,shift=12):\n",
    "    x=[]\n",
    "    y=[]\n",
    "    for i in range(len(data)-shift):\n",
    "        x.append(data.iloc[i:(i+shift)])\n",
    "        y.append(data.iloc[i+shift])\n",
    "    return np.array(x),np.array(y)"
   ]
  },
  {
   "cell_type": "code",
   "execution_count": 20,
   "metadata": {},
   "outputs": [
    {
     "name": "stdout",
     "output_type": "stream",
     "text": [
      "x_train shape:  (28020, 12, 1)\n",
      "y_train shape:  (28020, 1)\n",
      "x_test shape:  (6997, 12, 1)\n",
      "y_test shape:  (6997, 1)\n"
     ]
    }
   ],
   "source": [
    "shift=12\n",
    "x_train, y_train = shift_df(data=train_data, shift=shift)\n",
    "x_test, y_test = shift_df(data=test_data, shift=shift)\n",
    "\n",
    "print(\"x_train shape: \", x_train.shape)\n",
    "print(\"y_train shape: \", y_train.shape)\n",
    "print(\"x_test shape: \", x_test.shape)\n",
    "print(\"y_test shape: \", y_test.shape)"
   ]
  },
  {
   "cell_type": "code",
   "execution_count": 21,
   "metadata": {},
   "outputs": [
    {
     "data": {
      "text/plain": [
       "Text(0.5, 1.0, 'test data')"
      ]
     },
     "execution_count": 21,
     "metadata": {},
     "output_type": "execute_result"
    },
    {
     "data": {
      "image/png": "[encoded data removed]",
      "text/plain": [
       "<Figure size 432x288 with 1 Axes>"
      ]
     },
     "metadata": {
      "needs_background": "light"
     },
     "output_type": "display_data"
    }
   ],
   "source": [
    "plt.plot(y_test)\n",
    "plt.ylabel(\"price $\")\n",
    "plt.title('test data')"
   ]
  },
  {
   "cell_type": "code",
   "execution_count": 22,
   "metadata": {},
   "outputs": [
    {
     "name": "stdout",
     "output_type": "stream",
     "text": [
      "WARNING:tensorflow:From c:\\programdata\\anaconda3\\lib\\site-packages\\tensorflow_core\\python\\ops\\resource_variable_ops.py:1630: calling BaseResourceVariable.__init__ (from tensorflow.python.ops.resource_variable_ops) with constraint is deprecated and will be removed in a future version.\n",
      "Instructions for updating:\n",
      "If using Keras pass *_constraint arguments to layers.\n",
      "Model: \"sequential\"\n",
      "_________________________________________________________________\n",
      "Layer (type)                 Output Shape              Param #   \n",
      "=================================================================\n",
      "lstm (LSTM)                  (None, 32)                4352      \n",
      "_________________________________________________________________\n",
      "dense (Dense)                (None, 1)                 33        \n",
      "=================================================================\n",
      "Total params: 4,385\n",
      "Trainable params: 4,385\n",
      "Non-trainable params: 0\n",
      "_________________________________________________________________\n",
      "WARNING:tensorflow:From c:\\programdata\\anaconda3\\lib\\site-packages\\tensorflow_core\\python\\ops\\math_grad.py:1424: where (from tensorflow.python.ops.array_ops) is deprecated and will be removed in a future version.\n",
      "Instructions for updating:\n",
      "Use tf.where in 2.0, which has the same broadcast rule as np.where\n",
      "Train on 22416 samples, validate on 5604 samples\n",
      "Epoch 1/10\n",
      "22416/22416 [==============================] - 12s 531us/sample - loss: 4.7301e-04 - val_loss: 0.0025\n",
      "Epoch 2/10\n",
      "22416/22416 [==============================] - 7s 309us/sample - loss: 0.0014 - val_loss: 0.0031\n",
      "Epoch 3/10\n",
      "22416/22416 [==============================] - 7s 310us/sample - loss: 0.0015 - val_loss: 0.0022\n",
      "Epoch 4/10\n",
      "22416/22416 [==============================] - 7s 316us/sample - loss: 0.0011 - val_loss: 0.0015\n",
      "Epoch 5/10\n",
      "22416/22416 [==============================] - 7s 311us/sample - loss: 6.9651e-04 - val_loss: 8.6855e-04\n",
      "Epoch 6/10\n",
      "22416/22416 [==============================] - 7s 312us/sample - loss: 3.9663e-04 - val_loss: 4.0886e-04\n",
      "Epoch 7/10\n",
      "22416/22416 [==============================] - 7s 311us/sample - loss: 2.0055e-04 - val_loss: 1.8261e-04\n",
      "Epoch 8/10\n",
      "22416/22416 [==============================] - 7s 304us/sample - loss: 1.2970e-04 - val_loss: 8.1117e-05\n",
      "Epoch 9/10\n",
      "22416/22416 [==============================] - 7s 311us/sample - loss: 8.5035e-05 - val_loss: 3.8705e-05\n",
      "Epoch 10/10\n",
      "22416/22416 [==============================] - 7s 309us/sample - loss: 6.2088e-05 - val_loss: 2.2357e-05\n"
     ]
    }
   ],
   "source": [
    "#LSTM model\n",
    "lstm_out = 32\n",
    "timestep = x_train.shape[1]\n",
    "#adam = Adam(lr=0.00001)\n",
    "\n",
    "model = models.Sequential()\n",
    "model.add(LSTM(lstm_out, input_shape=(timestep,1),activation='relu', return_sequences = False))\n",
    "#model.add(LSTM(64,return_sequences = True))\n",
    "#model.add(LSTM(32,return_sequences = True))\n",
    "#model.add(LSTM(8,return_sequences = False))\n",
    "model.add(Dense(1))\n",
    "\n",
    "model.compile(optimizer='adam',loss='mean_squared_error')\n",
    "model.summary()\n",
    "history =model.fit(x_train, y_train, batch_size=64, epochs=10, shuffle=False, verbose =1,\n",
    "                  validation_split=0.2,\n",
    "                  ).history"
   ]
  },
  {
   "cell_type": "code",
   "execution_count": 23,
   "metadata": {},
   "outputs": [],
   "source": [
    "#Predictions\n",
    "y_pred = model.predict(x_test)"
   ]
  },
  {
   "cell_type": "code",
   "execution_count": 24,
   "metadata": {},
   "outputs": [
    {
     "data": {
      "text/plain": [
       "Text(0.5, 1.0, 'test data')"
      ]
     },
     "execution_count": 24,
     "metadata": {},
     "output_type": "execute_result"
    },
    {
     "data": {
      "image/png": "[encoded data removed]",
      "text/plain": [
       "<Figure size 432x288 with 1 Axes>"
      ]
     },
     "metadata": {
      "needs_background": "light"
     },
     "output_type": "display_data"
    }
   ],
   "source": [
    "#Visulize predictions\n",
    "plt.plot(y_test)\n",
    "plt.ylabel(\"price $\")\n",
    "plt.title('test data')"
   ]
  },
  {
   "cell_type": "code",
   "execution_count": 25,
   "metadata": {},
   "outputs": [
    {
     "data": {
      "text/plain": [
       "Text(0.5, 1.0, 'predicted data')"
      ]
     },
     "execution_count": 25,
     "metadata": {},
     "output_type": "execute_result"
    },
    {
     "data": {
      "image/png": "[encoded data removed]",
      "text/plain": [
       "<Figure size 432x288 with 1 Axes>"
      ]
     },
     "metadata": {
      "needs_background": "light"
     },
     "output_type": "display_data"
    }
   ],
   "source": [
    "plt.plot(y_pred)\n",
    "plt.ylabel(\"price $\")\n",
    "plt.title('predicted data')"
   ]
  },
  {
   "cell_type": "code",
   "execution_count": 26,
   "metadata": {},
   "outputs": [],
   "source": [
    "y_test_reversed = scaler.inverse_transform(y_test)\n",
    "y_pred_reversed = scaler.inverse_transform(y_pred)"
   ]
  },
  {
   "cell_type": "code",
   "execution_count": 27,
   "metadata": {},
   "outputs": [
    {
     "data": {
      "text/plain": [
       "<matplotlib.legend.Legend at 0x1d5ab83ab48>"
      ]
     },
     "execution_count": 27,
     "metadata": {},
     "output_type": "execute_result"
    },
    {
     "data": {
      "image/png": "[encoded data removed]",
      "text/plain": [
       "<Figure size 432x288 with 1 Axes>"
      ]
     },
     "metadata": {
      "needs_background": "light"
     },
     "output_type": "display_data"
    }
   ],
   "source": [
    "plt.plot(y_test_reversed, label=\"real data\")\n",
    "plt.ylabel(\"price $\")\n",
    "plt.plot(y_pred_reversed, label=\"predicted data\")\n",
    "plt.ylabel(\"price $\")\n",
    "plt.legend(loc=\"upper left\")"
   ]
  },
  {
   "cell_type": "code",
   "execution_count": 28,
   "metadata": {},
   "outputs": [
    {
     "name": "stderr",
     "output_type": "stream",
     "text": [
      "c:\\programdata\\anaconda3\\lib\\site-packages\\ipykernel_launcher.py:2: SettingWithCopyWarning: \n",
      "A value is trying to be set on a copy of a slice from a DataFrame.\n",
      "Try using .loc[row_indexer,col_indexer] = value instead\n",
      "\n",
      "See the caveats in the documentation: http://pandas.pydata.org/pandas-docs/stable/indexing.html#indexing-view-versus-copy\n",
      "  \n",
      "c:\\programdata\\anaconda3\\lib\\site-packages\\ipykernel_launcher.py:3: SettingWithCopyWarning: \n",
      "A value is trying to be set on a copy of a slice from a DataFrame.\n",
      "Try using .loc[row_indexer,col_indexer] = value instead\n",
      "\n",
      "See the caveats in the documentation: http://pandas.pydata.org/pandas-docs/stable/indexing.html#indexing-view-versus-copy\n",
      "  This is separate from the ipykernel package so we can avoid doing imports until\n"
     ]
    }
   ],
   "source": [
    "test_data_index = test_data[shift:]\n",
    "test_data_index['y_test'] = y_test_reversed\n",
    "test_data_index['y_pred'] = y_pred_reversed\n",
    "test_data_index = test_data_index.drop(columns=['Weighted_Price'])"
   ]
  },
  {
   "cell_type": "code",
   "execution_count": 29,
   "metadata": {},
   "outputs": [
    {
     "data": {
      "text/plain": [
       "<matplotlib.legend.Legend at 0x1d5ab848d88>"
      ]
     },
     "execution_count": 29,
     "metadata": {},
     "output_type": "execute_result"
    },
    {
     "data": {
      "image/png": "[encoded data removed]",
      "text/plain": [
       "<Figure size 432x288 with 1 Axes>"
      ]
     },
     "metadata": {
      "needs_background": "light"
     },
     "output_type": "display_data"
    }
   ],
   "source": [
    "axs = test_data_index.plot()\n",
    "axs.set_xlabel(\"Time\") \n",
    "axs.set_ylabel(\"Price $\")\n",
    "axs.set_title('real data vs predicted data')\n",
    "axs.legend([\"real data\", \"predicted data\"], loc='upper left')"
   ]
  },
  {
   "cell_type": "code",
   "execution_count": 59,
   "metadata": {},
   "outputs": [],
   "source": [
    "#Predict future unseen prices\n",
    "future_prices = []\n",
    "pattern = list(np.array(x_test[-1:]).flatten())\n",
    "#pattern = list(np.array(y_test[-12:]))\n",
    "# generate future prices\n",
    "for i in range(500):\n",
    "    x = np.reshape(pattern, (1, len(pattern), 1))\n",
    "    prediction = model.predict(x)\n",
    "    prediction = prediction[0][0] * np.random.uniform(0.7, 1.3)\n",
    "    prediction = np.clip(prediction, 0.2, 1.6)\n",
    "    pattern.append(prediction)\n",
    "    future_prices.append(prediction)\n",
    "    pattern = pattern[1:len(pattern)]\n",
    "    "
   ]
  },
  {
   "cell_type": "code",
   "execution_count": 60,
   "metadata": {},
   "outputs": [
    {
     "data": {
      "text/plain": [
       "[<matplotlib.lines.Line2D at 0x1d5bd175bc8>]"
      ]
     },
     "execution_count": 60,
     "metadata": {},
     "output_type": "execute_result"
    },
    {
     "data": {
      "image/png": "[encoded data removed]",
      "text/plain": [
       "<Figure size 432x288 with 1 Axes>"
      ]
     },
     "metadata": {
      "needs_background": "light"
     },
     "output_type": "display_data"
    }
   ],
   "source": [
    "plt.plot(future_prices, label=\"predicted future unseen data\")"
   ]
  },
  {
   "cell_type": "code",
   "execution_count": 61,
   "metadata": {},
   "outputs": [
    {
     "data": {
      "text/plain": [
       "<matplotlib.legend.Legend at 0x1d709777b48>"
      ]
     },
     "execution_count": 61,
     "metadata": {},
     "output_type": "execute_result"
    },
    {
     "data": {
      "image/png": "[encoded data removed]",
      "text/plain": [
       "<Figure size 432x288 with 1 Axes>"
      ]
     },
     "metadata": {
      "needs_background": "light"
     },
     "output_type": "display_data"
    }
   ],
   "source": [
    "future_prices = np.array(future_prices)\n",
    "future_prices = future_prices.reshape(-1,1)\n",
    "future_prices = scaler.inverse_transform(future_prices)\n",
    "plt.plot(future_prices, label=\"predicted data\")\n",
    "plt.ylabel(\"price $\")\n",
    "plt.legend(loc=\"upper left\")"
   ]
  },
  {
   "cell_type": "code",
   "execution_count": null,
   "metadata": {},
   "outputs": [],
   "source": []
  }
 ],
 "metadata": {
  "kernelspec": {
   "display_name": "Python 3",
   "language": "python",
   "name": "python3"
  },
  "language_info": {
   "codemirror_mode": {
    "name": "ipython",
    "version": 3
   },
   "file_extension": ".py",
   "mimetype": "text/x-python",
   "name": "python",
   "nbconvert_exporter": "python",
   "pygments_lexer": "ipython3",
   "version": "3.7.6"
  }
 },
 "nbformat": 4,
 "nbformat_minor": 4
}
